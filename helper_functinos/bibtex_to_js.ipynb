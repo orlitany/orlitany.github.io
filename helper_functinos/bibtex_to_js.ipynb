{
  "nbformat": 4,
  "nbformat_minor": 0,
  "metadata": {
    "colab": {
      "provenance": []
    },
    "kernelspec": {
      "name": "python3",
      "display_name": "Python 3"
    },
    "language_info": {
      "name": "python"
    }
  },
  "cells": [
    {
      "cell_type": "code",
      "source": [
        "!pip install bibtexparser"
      ],
      "metadata": {
        "colab": {
          "base_uri": "https://localhost:8080/"
        },
        "id": "BujBYzG8srnI",
        "outputId": "fa03361c-25d9-4781-b42e-80da0422b617"
      },
      "execution_count": null,
      "outputs": [
        {
          "output_type": "stream",
          "name": "stdout",
          "text": [
            "Looking in indexes: https://pypi.org/simple, https://us-python.pkg.dev/colab-wheels/public/simple/\n",
            "Collecting bibtexparser\n",
            "  Downloading bibtexparser-1.4.0.tar.gz (51 kB)\n",
            "\u001b[2K     \u001b[90m━━━━━━━━━━━━━━━━━━━━━━━━━━━━━━━━━━━━━━━\u001b[0m \u001b[32m51.9/51.9 KB\u001b[0m \u001b[31m432.2 kB/s\u001b[0m eta \u001b[36m0:00:00\u001b[0m\n",
            "\u001b[?25h  Preparing metadata (setup.py) ... \u001b[?25l\u001b[?25hdone\n",
            "Requirement already satisfied: pyparsing>=2.0.3 in /usr/local/lib/python3.9/dist-packages (from bibtexparser) (3.0.9)\n",
            "Building wheels for collected packages: bibtexparser\n",
            "  Building wheel for bibtexparser (setup.py) ... \u001b[?25l\u001b[?25hdone\n",
            "  Created wheel for bibtexparser: filename=bibtexparser-1.4.0-py3-none-any.whl size=42444 sha256=b11a06fa2c34a93df4b150d536af47bf69860b6b577f382c0d8460bf9186d493\n",
            "  Stored in directory: /root/.cache/pip/wheels/83/e1/e3/2311be27728119eefd014e0a6039eee58470560d8ab31fd1fa\n",
            "Successfully built bibtexparser\n",
            "Installing collected packages: bibtexparser\n",
            "Successfully installed bibtexparser-1.4.0\n"
          ]
        }
      ]
    },
    {
      "cell_type": "code",
      "execution_count": null,
      "metadata": {
        "id": "SSsSfXUtslg_"
      },
      "outputs": [],
      "source": [
        "import bibtexparser\n",
        "import json\n",
        "from bibtexparser.bwriter import BibTexWriter\n",
        "from bibtexparser.bibdatabase import BibDatabase"
      ]
    },
    {
      "cell_type": "code",
      "source": [
        "# read bib file into a biubtex dbase\n",
        "with open(\"citations.bib\") as bibtex_file:\n",
        "  bib_database = bibtexparser.load(bibtex_file)\n",
        "\n",
        "# make a new dict to store by bibs by title\n",
        "bib_dict = {}\n",
        "\n",
        "writer = BibTexWriter()\n",
        "for entry_dict in bib_database.entries:\n",
        "  # entry_dict = bib_database.get_entry_list()[0]\n",
        "  db = BibDatabase()\n",
        "  db.entries = [entry_dict]\n",
        "  bibtex_str = writer.write(db)\n",
        "  bib_dict[entry_dict['ID']] = bibtex_str\n",
        "  \n",
        "# save file to js \n",
        "with open(\"bibs.js\",\"w\") as f:  \n",
        "  f.write('bibs = ')\n",
        "  json.dump(bib_dict,f, indent = 3)"
      ],
      "metadata": {
        "id": "hPsElrmUx-A9"
      },
      "execution_count": 78,
      "outputs": []
    },
    {
      "cell_type": "code",
      "source": [],
      "metadata": {
        "id": "CuiPotgO0k2Z"
      },
      "execution_count": 79,
      "outputs": []
    },
    {
      "cell_type": "code",
      "source": [],
      "metadata": {
        "id": "zAjWsP6N0QVX"
      },
      "execution_count": 62,
      "outputs": []
    }
  ]
}