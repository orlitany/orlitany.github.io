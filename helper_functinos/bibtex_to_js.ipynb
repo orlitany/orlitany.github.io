{
  "cells": [
    {
      "cell_type": "code",
      "execution_count": 6,
      "metadata": {
        "colab": {
          "base_uri": "https://localhost:8080/"
        },
        "id": "BujBYzG8srnI",
        "outputId": "fa03361c-25d9-4781-b42e-80da0422b617"
      },
      "outputs": [
        {
          "name": "stdout",
          "output_type": "stream",
          "text": [
            "Requirement already satisfied: bibtexparser in /Users/olitany/anaconda3/lib/python3.10/site-packages (1.4.0)\n",
            "Requirement already satisfied: pyparsing>=2.0.3 in /Users/olitany/anaconda3/lib/python3.10/site-packages (from bibtexparser) (3.0.9)\n"
          ]
        }
      ],
      "source": [
        "!pip install bibtexparser"
      ]
    },
    {
      "cell_type": "code",
      "execution_count": 7,
      "metadata": {
        "id": "SSsSfXUtslg_"
      },
      "outputs": [
        {
          "ename": "ModuleNotFoundError",
          "evalue": "No module named 'bibtexparser'",
          "output_type": "error",
          "traceback": [
            "\u001b[0;31m---------------------------------------------------------------------------\u001b[0m",
            "\u001b[0;31mModuleNotFoundError\u001b[0m                       Traceback (most recent call last)",
            "Cell \u001b[0;32mIn[7], line 1\u001b[0m\n\u001b[0;32m----> 1\u001b[0m \u001b[39mimport\u001b[39;00m \u001b[39mbibtexparser\u001b[39;00m\n\u001b[1;32m      2\u001b[0m \u001b[39mimport\u001b[39;00m \u001b[39mjson\u001b[39;00m\n\u001b[1;32m      3\u001b[0m \u001b[39mfrom\u001b[39;00m \u001b[39mbibtexparser\u001b[39;00m\u001b[39m.\u001b[39;00m\u001b[39mbwriter\u001b[39;00m \u001b[39mimport\u001b[39;00m BibTexWriter\n",
            "\u001b[0;31mModuleNotFoundError\u001b[0m: No module named 'bibtexparser'"
          ]
        }
      ],
      "source": [
        "import bibtexparser\n",
        "import json\n",
        "from bibtexparser.bwriter import BibTexWriter\n",
        "from bibtexparser.bibdatabase import BibDatabase"
      ]
    },
    {
      "cell_type": "code",
      "execution_count": 78,
      "metadata": {
        "id": "hPsElrmUx-A9"
      },
      "outputs": [],
      "source": [
        "# read bib file into a biubtex dbase\n",
        "with open(\"citations.bib\") as bibtex_file:\n",
        "  bib_database = bibtexparser.load(bibtex_file)\n",
        "\n",
        "# make a new dict to store by bibs by title\n",
        "bib_dict = {}\n",
        "\n",
        "writer = BibTexWriter()\n",
        "for entry_dict in bib_database.entries:\n",
        "  # entry_dict = bib_database.get_entry_list()[0]\n",
        "  db = BibDatabase()\n",
        "  db.entries = [entry_dict]\n",
        "  bibtex_str = writer.write(db)\n",
        "  bib_dict[entry_dict['ID']] = bibtex_str\n",
        "  \n",
        "# save file to js \n",
        "with open(\"bibs.js\",\"w\") as f:  \n",
        "  f.write('bibs = ')\n",
        "  json.dump(bib_dict,f, indent = 3)"
      ]
    },
    {
      "cell_type": "code",
      "execution_count": 79,
      "metadata": {
        "id": "CuiPotgO0k2Z"
      },
      "outputs": [],
      "source": []
    },
    {
      "cell_type": "code",
      "execution_count": 62,
      "metadata": {
        "id": "zAjWsP6N0QVX"
      },
      "outputs": [],
      "source": []
    }
  ],
  "metadata": {
    "colab": {
      "provenance": []
    },
    "kernelspec": {
      "display_name": "Python 3",
      "name": "python3"
    },
    "language_info": {
      "codemirror_mode": {
        "name": "ipython",
        "version": 3
      },
      "file_extension": ".py",
      "mimetype": "text/x-python",
      "name": "python",
      "nbconvert_exporter": "python",
      "pygments_lexer": "ipython3",
      "version": "3.8.2"
    }
  },
  "nbformat": 4,
  "nbformat_minor": 0
}
