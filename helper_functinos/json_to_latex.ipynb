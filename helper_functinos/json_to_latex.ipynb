{
 "cells": [
  {
   "cell_type": "code",
   "execution_count": 1,
   "metadata": {},
   "outputs": [],
   "source": [
    "import json\n"
   ]
  },
  {
   "cell_type": "code",
   "execution_count": 16,
   "metadata": {},
   "outputs": [
    {
     "name": "stdout",
     "output_type": "stream",
     "text": [
      "\\item ``3DOVScene: Open-Vocabulary 3D Scene Understanding'' workshop at ICCV, 2023. \n",
      "\\item ``Neural Fields in Computer Vision'' workshop at CVPR, 2022. \n",
      "\\item ``Learning 3D Representations for Shape and Appearance'' workshop at ICCV, 2021. \n",
      "\\item ``iGDL: Israeli Geometric Deep Learning workshop (First)'' workshop at , 2020. \n",
      "\\item ``iGDL: Israeli Geometric Deep Learning workshop (Second)'' workshop at , 2021. \n",
      "\\item ``Deep Learning and Geometry'' workshop at EUSIPCO, 2017. \n",
      "\\item ``Learning 3D Representations for Shape and Appearance'' workshop at ECCV, 2020. \n",
      "\\item ``Deep Learning for Computer Graphics and Geometry Processing'' workshop at Eurographics, 2019. \n",
      "\\item ``Deep Learning meets Geometry'' tutorial at ECCV, 2018. \n",
      "\n"
     ]
    }
   ],
   "source": [
    "with open('workshops.json') as f:\n",
    "    data = json.load(f)\n",
    "\n",
    "# convert to latex\n",
    "txt = \"\"\n",
    "pre = \"\\item ``\"\n",
    "\n",
    "for event in data['events']:    \n",
    "    curr_txt = pre+event['name']\n",
    "    curr_txt += \"'' \"+event[\"type\"]\n",
    "    curr_txt += \" at \"+event['venue']\n",
    "    curr_txt += \", \"+event[\"year\"]\n",
    "    txt += curr_txt + \". \\n\"\n",
    "\n",
    "print(txt)\n",
    "    "
   ]
  },
  {
   "cell_type": "code",
   "execution_count": 15,
   "metadata": {},
   "outputs": [
    {
     "ename": "TypeError",
     "evalue": "can only concatenate str (not \"list\") to str",
     "output_type": "error",
     "traceback": [
      "\u001b[0;31m---------------------------------------------------------------------------\u001b[0m",
      "\u001b[0;31mTypeError\u001b[0m                                 Traceback (most recent call last)",
      "Cell \u001b[0;32mIn[15], line 9\u001b[0m\n\u001b[1;32m      7\u001b[0m     curr_txt \u001b[39m+\u001b[39m\u001b[39m=\u001b[39m \u001b[39m\"\u001b[39m\u001b[39m'\u001b[39m\u001b[39m'\u001b[39m\u001b[39m \u001b[39m\u001b[39m\"\u001b[39m\u001b[39m+\u001b[39mevent[\u001b[39m\"\u001b[39m\u001b[39mtype\u001b[39m\u001b[39m\"\u001b[39m]\n\u001b[1;32m      8\u001b[0m     curr_txt \u001b[39m+\u001b[39m\u001b[39m=\u001b[39m \u001b[39m\"\u001b[39m\u001b[39m at \u001b[39m\u001b[39m\"\u001b[39m\u001b[39m+\u001b[39mevent[\u001b[39m'\u001b[39m\u001b[39mvenue\u001b[39m\u001b[39m'\u001b[39m]\n\u001b[0;32m----> 9\u001b[0m     curr_txt \u001b[39m+\u001b[39m\u001b[39m=\u001b[39m \u001b[39m\"\u001b[39;49m\u001b[39m, \u001b[39;49m\u001b[39m\"\u001b[39;49m\u001b[39m+\u001b[39;49mevent[\u001b[39m\"\u001b[39;49m\u001b[39myear\u001b[39;49m\u001b[39m\"\u001b[39;49m]\n\u001b[1;32m     10\u001b[0m     txt \u001b[39m+\u001b[39m\u001b[39m=\u001b[39m curr_txt \u001b[39m+\u001b[39m \u001b[39m\"\u001b[39m\u001b[39m. \u001b[39m\u001b[39m\\n\u001b[39;00m\u001b[39m\"\u001b[39m\n\u001b[1;32m     12\u001b[0m \u001b[39mprint\u001b[39m(txt)\n",
      "\u001b[0;31mTypeError\u001b[0m: can only concatenate str (not \"list\") to str"
     ]
    }
   ],
   "source": []
  }
 ],
 "metadata": {
  "kernelspec": {
   "display_name": "Python 3",
   "language": "python",
   "name": "python3"
  },
  "language_info": {
   "codemirror_mode": {
    "name": "ipython",
    "version": 3
   },
   "file_extension": ".py",
   "mimetype": "text/x-python",
   "name": "python",
   "nbconvert_exporter": "python",
   "pygments_lexer": "ipython3",
   "version": "3.8.2"
  },
  "orig_nbformat": 4
 },
 "nbformat": 4,
 "nbformat_minor": 2
}
