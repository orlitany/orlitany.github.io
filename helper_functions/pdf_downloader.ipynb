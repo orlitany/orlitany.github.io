{
 "cells": [
  {
   "cell_type": "code",
   "execution_count": 1,
   "metadata": {},
   "outputs": [
    {
     "name": "stdout",
     "output_type": "stream",
     "text": [
      "Requirement already satisfied: requests in /Users/olitany/anaconda3/envs/myenv/lib/python3.11/site-packages (2.31.0)\n",
      "Requirement already satisfied: charset-normalizer<4,>=2 in /Users/olitany/anaconda3/envs/myenv/lib/python3.11/site-packages (from requests) (3.2.0)\n",
      "Requirement already satisfied: idna<4,>=2.5 in /Users/olitany/anaconda3/envs/myenv/lib/python3.11/site-packages (from requests) (3.4)\n",
      "Requirement already satisfied: urllib3<3,>=1.21.1 in /Users/olitany/anaconda3/envs/myenv/lib/python3.11/site-packages (from requests) (2.0.4)\n",
      "Requirement already satisfied: certifi>=2017.4.17 in /Users/olitany/anaconda3/envs/myenv/lib/python3.11/site-packages (from requests) (2023.7.22)\n"
     ]
    }
   ],
   "source": [
    "!pip install requests"
   ]
  },
  {
   "cell_type": "code",
   "execution_count": 17,
   "metadata": {},
   "outputs": [],
   "source": [
    "import requests\n",
    "from urllib.parse import urlparse, urljoin\n",
    "import os\n",
    "\n",
    "\n",
    "def download_arxiv_pdf(arxiv_url, title):\n",
    "    os.makedirs('./../downloaded_papers', exist_ok=True)\n",
    "    parsed_url = urlparse(arxiv_url)\n",
    "    if not all([parsed_url.scheme, parsed_url.netloc]):\n",
    "        print(\"Invalid URL provided.\")\n",
    "        return\n",
    "    \n",
    "    if \"arxiv.org\" not in parsed_url.netloc:\n",
    "        print(\"URL does not belong to ArXiv.\")\n",
    "        return\n",
    "    \n",
    "    paper_id = parsed_url.path.split('/')[-1]\n",
    "    pdf_url = f\"https://arxiv.org/pdf/{paper_id}.pdf\"\n",
    "    # pdf_url = urljoin(arxiv_url, f\"{paper_id}.pdf\")\n",
    "    print(pdf_url)\n",
    "    \n",
    "    response = requests.get(pdf_url)\n",
    "    if response.status_code == 200:\n",
    "        with open(f\"./../downloaded_papers/{title}.pdf\", \"wb\") as f:\n",
    "            f.write(response.content)\n",
    "        print(f\"PDF successfully downloaded as {paper_id}.pdf\")\n",
    "    else:\n",
    "        print(\"Failed to download PDF.\")\n",
    "\n"
   ]
  },
  {
   "cell_type": "code",
   "execution_count": 19,
   "metadata": {},
   "outputs": [
    {
     "name": "stdout",
     "output_type": "stream",
     "text": [
      "https://arxiv.org/pdf/2209.11163.pdf\n",
      "PDF successfully downloaded as 2209.11163.pdf\n",
      "https://arxiv.org/pdf/2210.06978.pdf\n",
      "PDF successfully downloaded as 2210.06978.pdf\n",
      "https://arxiv.org/pdf/2204.07761.pdf\n",
      "PDF successfully downloaded as 2204.07761.pdf\n",
      "https://arxiv.org/pdf/2202.08345.pdf\n",
      "PDF successfully downloaded as 2202.08345.pdf\n",
      "https://arxiv.org/pdf/2111.13674.pdf\n",
      "PDF successfully downloaded as 2111.13674.pdf\n",
      "https://arxiv.org/pdf/2110.02210.pdf\n",
      "PDF successfully downloaded as 2110.02210.pdf\n",
      "https://arxiv.org/pdf/2104.12229.pdf\n",
      "PDF successfully downloaded as 2104.12229.pdf\n",
      "https://arxiv.org/pdf/2007.10985.pdf\n",
      "PDF successfully downloaded as 2007.10985.pdf\n",
      "https://arxiv.org/pdf/1904.09664.pdf\n",
      "PDF successfully downloaded as 1904.09664.pdf\n"
     ]
    }
   ],
   "source": [
    "\n",
    "arxiv_links = [\n",
    "    # {\"title\": \"NFL\", \"link\": \"https://arxiv.org/abs/2305.01643\"},\n",
    "    # {\"title\": \"unscene3d\", \"link\": \"https://arxiv.org/abs/2303.14541\"},\n",
    "    # {\"title\": \"nksr\", \"link\": \"https://arxiv.org/abs/2305.19590\"},\n",
    "    # {\"title\": \"traceNpace\", \"link\": \"https://arxiv.org/abs/2304.01893\"},\n",
    "    # {\"title\": \"monocular\", \"link\": \"https://arxiv.org/abs/2305.13220\"},\n",
    "    # {\"title\": \"mask3d\", \"link\": \"https://arxiv.org/abs/2210.03105\"},\n",
    "    {\"title\": \"get3d\", \"link\": \"https://arxiv.org/abs/2209.11163\"},\n",
    "    {\"title\": \"lion\", \"link\": \"https://arxiv.org/abs/2210.06978\"},\n",
    "    {\"title\": \"languageguided\", \"link\": \"https://arxiv.org/abs/2204.07761\"},\n",
    "    {\"title\": \"lipschitz\", \"link\": \"https://arxiv.org/abs/2202.08345\"},\n",
    "    {\"title\": \"NKF\", \"link\": \"https://arxiv.org/abs/2111.13674\"},\n",
    "    {\"title\": \"mix3d\", \"link\": \"https://arxiv.org/abs/2110.02210\"},\n",
    "    {\"title\": \"vnn\", \"link\": \"https://arxiv.org/abs/2104.12229\"},\n",
    "    {\"title\": \"pointcont\", \"link\": \"https://arxiv.org/abs/2007.10985\"},\n",
    "    {\"title\": \"votenet\", \"link\": \"https://arxiv.org/abs/1904.09664\"}\n",
    "]\n",
    "    \n",
    "# arxiv_link = \"https://arxiv.org/abs/2305.01643\"  # Replace with the link to the paper you want to download\n",
    "for paper in arxiv_links:\n",
    "    download_arxiv_pdf(paper[\"link\"],paper[\"title\"])"
   ]
  },
  {
   "cell_type": "code",
   "execution_count": 10,
   "metadata": {},
   "outputs": [],
   "source": []
  }
 ],
 "metadata": {
  "kernelspec": {
   "display_name": "Python 3",
   "language": "python",
   "name": "python3"
  },
  "language_info": {
   "codemirror_mode": {
    "name": "ipython",
    "version": 3
   },
   "file_extension": ".py",
   "mimetype": "text/x-python",
   "name": "python",
   "nbconvert_exporter": "python",
   "pygments_lexer": "ipython3",
   "version": "3.11.0"
  },
  "orig_nbformat": 4
 },
 "nbformat": 4,
 "nbformat_minor": 2
}
